{
 "cells": [
  {
   "cell_type": "code",
   "execution_count": 2,
   "id": "1e6fb0a0-cf2e-4fc8-9c27-7a8931dc07f3",
   "metadata": {},
   "outputs": [],
   "source": [
    "#Start of the data cleaning process"
   ]
  },
  {
   "cell_type": "code",
   "execution_count": 3,
   "id": "03b9e614-3e01-4b8c-9f2e-7d9e445151ea",
   "metadata": {},
   "outputs": [],
   "source": [
    "#start with imports\n",
    "import numpy as np\n",
    "import pandas as pd\n",
    "import matplotlib as mpl"
   ]
  },
  {
   "cell_type": "code",
   "execution_count": 4,
   "id": "4e56fc82-1e41-4f95-9789-a24b269c7654",
   "metadata": {},
   "outputs": [],
   "source": [
    "Advanced_df = pd.read_csv('Assets/NBA_Player_Advanced_Stats.csv')\n",
    "Totals_df = pd.read_csv('Assets/NBA_Player_Total_Stats.csv')\n",
    "Contracts_df = pd.read_csv('Assets/NBA_Contracts.csv')"
   ]
  },
  {
   "cell_type": "code",
   "execution_count": 45,
   "id": "35fb3f22-9c63-4162-a775-4ceb489be026",
   "metadata": {},
   "outputs": [
    {
     "data": {
      "text/html": [
       "<div>\n",
       "<style scoped>\n",
       "    .dataframe tbody tr th:only-of-type {\n",
       "        vertical-align: middle;\n",
       "    }\n",
       "\n",
       "    .dataframe tbody tr th {\n",
       "        vertical-align: top;\n",
       "    }\n",
       "\n",
       "    .dataframe thead th {\n",
       "        text-align: right;\n",
       "    }\n",
       "</style>\n",
       "<table border=\"1\" class=\"dataframe\">\n",
       "  <thead>\n",
       "    <tr style=\"text-align: right;\">\n",
       "      <th></th>\n",
       "      <th>Signing Year</th>\n",
       "      <th>Rank</th>\n",
       "      <th>Player</th>\n",
       "      <th>Position</th>\n",
       "      <th>Team</th>\n",
       "      <th>Age</th>\n",
       "      <th>Contract Length</th>\n",
       "      <th>Total Value</th>\n",
       "      <th>Avg. Value</th>\n",
       "      <th>Guaranteed Money</th>\n",
       "      <th>Contract Type</th>\n",
       "    </tr>\n",
       "  </thead>\n",
       "  <tbody>\n",
       "    <tr>\n",
       "      <th>0</th>\n",
       "      <td>2011</td>\n",
       "      <td>1</td>\n",
       "      <td>Kevin Durant</td>\n",
       "      <td>SF</td>\n",
       "      <td>OKC</td>\n",
       "      <td>22</td>\n",
       "      <td>5</td>\n",
       "      <td>$89,163,134</td>\n",
       "      <td>$17,832,627</td>\n",
       "      <td>$89,163,134</td>\n",
       "      <td>rookie-maximum-extension</td>\n",
       "    </tr>\n",
       "    <tr>\n",
       "      <th>1</th>\n",
       "      <td>2011</td>\n",
       "      <td>2</td>\n",
       "      <td>Kobe Bryant</td>\n",
       "      <td>SF</td>\n",
       "      <td>LAL</td>\n",
       "      <td>32</td>\n",
       "      <td>3</td>\n",
       "      <td>$83,547,447</td>\n",
       "      <td>$27,849,149</td>\n",
       "      <td>$83,547,447</td>\n",
       "      <td>Veteran Extension</td>\n",
       "    </tr>\n",
       "    <tr>\n",
       "      <th>2</th>\n",
       "      <td>2011</td>\n",
       "      <td>3</td>\n",
       "      <td>Zach Randolph</td>\n",
       "      <td>PF</td>\n",
       "      <td>MEM</td>\n",
       "      <td>29</td>\n",
       "      <td>4</td>\n",
       "      <td>$66,000,000</td>\n",
       "      <td>$16,500,000</td>\n",
       "      <td>$66,000,000</td>\n",
       "      <td>Veteran Extension</td>\n",
       "    </tr>\n",
       "    <tr>\n",
       "      <th>3</th>\n",
       "      <td>2011</td>\n",
       "      <td>T4</td>\n",
       "      <td>Al Horford</td>\n",
       "      <td>C</td>\n",
       "      <td>ATL</td>\n",
       "      <td>24</td>\n",
       "      <td>5</td>\n",
       "      <td>$60,000,000</td>\n",
       "      <td>$12,000,000</td>\n",
       "      <td>$60,000,000</td>\n",
       "      <td>Rookie Extension</td>\n",
       "    </tr>\n",
       "    <tr>\n",
       "      <th>4</th>\n",
       "      <td>2011</td>\n",
       "      <td>T4</td>\n",
       "      <td>Joakim Noah</td>\n",
       "      <td>C</td>\n",
       "      <td>CHI</td>\n",
       "      <td>25</td>\n",
       "      <td>5</td>\n",
       "      <td>$60,000,000</td>\n",
       "      <td>$12,000,000</td>\n",
       "      <td>$60,000,000</td>\n",
       "      <td>Rookie Extension</td>\n",
       "    </tr>\n",
       "  </tbody>\n",
       "</table>\n",
       "</div>"
      ],
      "text/plain": [
       "   Signing Year Rank         Player Position Team  Age  Contract Length  \\\n",
       "0          2011    1   Kevin Durant       SF  OKC   22                5   \n",
       "1          2011    2    Kobe Bryant       SF  LAL   32                3   \n",
       "2          2011    3  Zach Randolph       PF  MEM   29                4   \n",
       "3          2011   T4     Al Horford        C  ATL   24                5   \n",
       "4          2011   T4    Joakim Noah        C  CHI   25                5   \n",
       "\n",
       "   Total Value   Avg. Value Guaranteed Money             Contract Type  \n",
       "0  $89,163,134  $17,832,627      $89,163,134  rookie-maximum-extension  \n",
       "1  $83,547,447  $27,849,149      $83,547,447         Veteran Extension  \n",
       "2  $66,000,000  $16,500,000      $66,000,000         Veteran Extension  \n",
       "3  $60,000,000  $12,000,000      $60,000,000          Rookie Extension  \n",
       "4  $60,000,000  $12,000,000      $60,000,000          Rookie Extension  "
      ]
     },
     "execution_count": 45,
     "metadata": {},
     "output_type": "execute_result"
    }
   ],
   "source": [
    "Contracts_df.head()"
   ]
  },
  {
   "cell_type": "code",
   "execution_count": 50,
   "id": "7e882a90-f274-4102-a846-be8f332f1b3d",
   "metadata": {},
   "outputs": [],
   "source": [
    "#Totals_df.info(), Advanced_df.info()"
   ]
  },
  {
   "cell_type": "code",
   "execution_count": 7,
   "id": "ac6e9d17-acb3-401b-af68-1c63d5c49c55",
   "metadata": {
    "scrolled": true
   },
   "outputs": [
    {
     "name": "stdout",
     "output_type": "stream",
     "text": [
      "There are 94 unique players of the 106 contracts\n"
     ]
    }
   ],
   "source": [
    "player_names = Contracts_df['Player'].unique()\n",
    "unique_players = len(player_names)\n",
    "total_contracts = len(Contracts_df)\n",
    "\n",
    "print(f'There are {unique_players} unique players of the {total_contracts} contracts')"
   ]
  },
  {
   "cell_type": "code",
   "execution_count": 8,
   "id": "0c5cefa4-cd07-4420-8317-f3ef52fa1908",
   "metadata": {},
   "outputs": [
    {
     "name": "stdout",
     "output_type": "stream",
     "text": [
      "['Nikola Vucevic', 'Anderson Varejao', 'Marcus Morris Sr.', 'Jonas Valanciunas', 'C.J. McCollum', 'Dennis Schröder', 'Louis Williams']\n"
     ]
    }
   ],
   "source": [
    "#Some of our players in our contracts_df have different names than what show in the stats_dfs\n",
    "adv_players_unq = set(Advanced_df['Player'].unique())\n",
    "total_players_unq = set(Totals_df['Player'].unique())\n",
    "missing_players = [name for name in player_names if name not in adv_players_unq and name not in total_players_unq]\n",
    "print(missing_players)\n",
    "# Missing Players: ['Nikola Vucevic', 'Anderson Varejao', 'Marcus Morris Sr.', 'Jonas Valanciunas', 'C.J. McCollum', 'Dennis Schröder', 'Louis Williams']\n",
    "#These missing players are most likely due to either nicknames(Lou Williams) or special characters(Jonas Valančiūnas)"
   ]
  },
  {
   "cell_type": "code",
   "execution_count": 13,
   "id": "ba6bca9a-36b7-4e9d-9d3c-8eead12973e3",
   "metadata": {},
   "outputs": [
    {
     "name": "stdout",
     "output_type": "stream",
     "text": [
      "Dennis SchrÃ¶der\n",
      "Anderson VarejÃ£o\n",
      "Nikola VuÄeviÄ\n",
      "CJ McCollum\n",
      "Lou Williams\n",
      "Jonas ValanÄiÅ«nas\n",
      "Marcus Morris\n"
     ]
    }
   ],
   "source": [
    "#Let's figure out our spellings within the player stats datasets\n",
    "#The following code will print out a few extra names than what we need, but it will allow us to see the spellings within the total_players_unq and likely the adv_players_unq aswell\n",
    "for player in total_players_unq:\n",
    "    if 'Nikola Vu' in player or 'Anderson Var' in player or 'Marcus Morris' in player or 'Jonas Val' in player or 'Dennis Sch' in player or 'Lou Williams' in player or 'McCollum' in player:\n",
    "        print(player)\n",
    "\n",
    "#Sinec some of the names in the total_players_unq have some odd spelling (Schroder and Varejao) we will set those names to the name found in the COntracts_df"
   ]
  },
  {
   "cell_type": "code",
   "execution_count": 14,
   "id": "03ae4409-96e5-4c0a-943b-d1d83638b306",
   "metadata": {},
   "outputs": [
    {
     "name": "stdout",
     "output_type": "stream",
     "text": [
      "Players not in totals set()\n",
      "Players not in advanced set()\n"
     ]
    }
   ],
   "source": [
    "name_corrections = {\n",
    "    'Nikola VuÄeviÄ': 'Nikola Vucevic',\n",
    "    'Jonas ValanÄiÅ«nas': 'Jonas Valanciunas',\n",
    "    'Anderson VarejÃ£o': 'Anderson Varejao',\n",
    "    'Marcus Morris': 'Marcus Morris Sr.',\n",
    "    'CJ McCollum': 'C.J. McCollum',\n",
    "    'Dennis SchrÃ¶der': 'Dennis Schröder',\n",
    "    'Lou Williams': 'Louis Williams'\n",
    "}\n",
    "\n",
    "Advanced_df['Player'] = Advanced_df['Player'].replace(name_corrections)\n",
    "Totals_df['Player'] = Totals_df['Player'].replace(name_corrections)\n",
    "\n",
    "#Let's make sure that worked though, and make sure that both of our Basketball Reference CSVs had the same names used\n",
    "advanced_players = set(Advanced_df[\"Player\"].unique())\n",
    "totals_players = set(Totals_df[\"Player\"].unique())\n",
    "contract_players = set(player_names)\n",
    "\n",
    "unmatched_totals = contract_players - totals_players\n",
    "print('Players not in totals', unmatched_totals)\n",
    "unmatched_adv = contract_players - advanced_players\n",
    "print('Players not in advanced', unmatched_adv)\n",
    "\n",
    "#Our print outs show empty lists which means our originally \"missing\" (misspelled) names now match those used in our Contract database. "
   ]
  },
  {
   "cell_type": "code",
   "execution_count": 36,
   "id": "68bd988d-2dfe-4a00-b43e-3112fdda8763",
   "metadata": {},
   "outputs": [
    {
     "name": "stdout",
     "output_type": "stream",
     "text": [
      "Advanced_df: (9262, 30) → (1179, 30)\n",
      "Totals_df: (9262, 33) → (1179, 33)\n"
     ]
    }
   ],
   "source": [
    "#Now we can filter down our stats satasets to only include the players that are in our contract data:\n",
    "Advanced_df_filtered = Advanced_df[Advanced_df[\"Player\"].isin(player_names)]\n",
    "print(f\"Advanced_df: {Advanced_df.shape} → {Advanced_df_filtered.shape}\")\n",
    "\n",
    "Totals_df_filtered = Totals_df[Totals_df[\"Player\"].isin(player_names)]\n",
    "print(f\"Totals_df: {Totals_df.shape} → {Totals_df_filtered.shape}\")"
   ]
  },
  {
   "cell_type": "markdown",
   "id": "c258fc22-6a41-438d-8cbc-7e904ac652a5",
   "metadata": {},
   "source": [
    "# More Filtering!\n",
    "### Here we will filter down our dataframe some more to filter out any rows that are not included in our Contracts_df"
   ]
  },
  {
   "cell_type": "code",
   "execution_count": 55,
   "id": "c931a5b6-19c8-4b9a-bba0-fc684f916835",
   "metadata": {},
   "outputs": [],
   "source": [
    "# Let's create a dict obj that will contain all the players in our contract_df with there give contract years\n",
    "contract_years_dict = {}\n",
    "\n",
    "for _,row in Contracts_df.iterrows():\n",
    "    contract_years_dict[row['Player']] = list(range(row['Signing Year'], row['Signing Year'] + row['Contract Length']))\n",
    "\n",
    "#print(contract_years_dict)\n",
    "#Our output looks like: {'Kevin Durant': [2011, 2012, 2013, 2014, 2015],\n",
    "#                        'Kobe Bryant': [2014, 2015], \n",
    "#                        'Zach Randolph': [2015, 2016], ....\n",
    "\n",
    "#Now that we have each player, and their contract years, we can filter our data even more to only contain their years \n",
    "#that match with the contract extensions from our Contracts_df \n",
    "filtered_totals = []\n",
    "filtered_advanced = []\n",
    "\n",
    "#For each row in our stats dataframes, we will grab the player name and season of play,\n",
    "#we then check if this name and season/year is within our contract_dict. If it is we add it to our filter\n",
    "for index, row in Totals_df_filtered.iterrows():\n",
    "    player, year = row['Player'], row['Season']\n",
    "    if player in contract_years_dict and year in contract_years_dict[player]:\n",
    "        filtered_totals.append(row)\n",
    "\n",
    "for index, row in Advanced_df_filtered.iterrows():\n",
    "    player, year = row['Player'], row['Season']\n",
    "    if player in contract_years_dict and year in contract_years_dict[player]:\n",
    "        filtered_advanced.append(row)\n",
    "        "
   ]
  },
  {
   "cell_type": "code",
   "execution_count": 59,
   "id": "94b4745a-3b7e-48d8-bdfc-2dd6cb0a4a42",
   "metadata": {},
   "outputs": [
    {
     "name": "stdout",
     "output_type": "stream",
     "text": [
      "Totals_df: (444, 33)\n",
      "Advanced_df: (444, 30)\n"
     ]
    }
   ],
   "source": [
    "#Now that we have our filter from above(as a list of lists) we can turn it back into a dataframe\n",
    "#this will let us do more statistical analysis\n",
    "Totals_df_years_filtered = pd.DataFrame(filtered_totals, columns=Totals_df.columns)\n",
    "print(f'Totals_df: {Totals_df_years_filtered.shape}')\n",
    "\n",
    "Advanced_df_years_filtered = pd.DataFrame(filtered_advanced, columns=Advanced_df.columns)\n",
    "print(f'Advanced_df: {Advanced_df_years_filtered.shape}')"
   ]
  },
  {
   "cell_type": "code",
   "execution_count": 60,
   "id": "1b0d6e5a-27cf-4ce7-8218-747f555ad97e",
   "metadata": {},
   "outputs": [
    {
     "name": "stdout",
     "output_type": "stream",
     "text": [
      "      Season   Rank        Player   Age Team Pos     G    GS      MP   PER  \\\n",
      "0       2011    1.0  Kevin Durant  23.0  OKC  SF  66.0  66.0  2546.0  26.2   \n",
      "553     2012    2.0  Kevin Durant  24.0  OKC  SF  81.0  81.0  3119.0  28.3   \n",
      "1126    2013    1.0  Kevin Durant  25.0  OKC  SF  81.0  81.0  3122.0  29.8   \n",
      "2116    2014  290.0  Kevin Durant  26.0  OKC  SF  27.0  27.0   913.0  27.6   \n",
      "2421    2015   30.0  Kevin Durant  27.0  OKC  SF  72.0  72.0  2578.0  28.2   \n",
      "\n",
      "      ...  USG%   OWS  DWS    WS  WS/48  OBPM  DBPM   BPM  VORP         Honors  \n",
      "0     ...  31.3   8.5  3.7  12.2  0.230   6.2   0.8   7.0   5.8  MVP-2,AS,NBA1  \n",
      "553   ...  29.8  13.6  5.3  18.9  0.291   7.6   1.7   9.3   8.9  MVP-2,AS,NBA1  \n",
      "1126  ...  33.0  14.8  4.4  19.2  0.295   8.8   1.4  10.2   9.6  MVP-1,AS,NBA1  \n",
      "2116  ...  29.1   3.8  1.0   4.8  0.252   8.6   1.4  10.0   2.8             AS  \n",
      "2421  ...  30.6  11.0  3.5  14.5  0.270   8.4   1.6   9.9   7.8  MVP-5,AS,NBA2  \n",
      "\n",
      "[5 rows x 30 columns]\n"
     ]
    }
   ],
   "source": [
    "#Let's take a look at an example. Kevin Durant is the first row in our Contracts_df with a Contract_length=5 \n",
    "print(Advanced_df_years_filtered[Advanced_df_years_filtered[\"Player\"] == 'Kevin Durant'])"
   ]
  },
  {
   "cell_type": "code",
   "execution_count": 61,
   "id": "51e62ad1-69d5-4f83-ba0d-69b2e5846f68",
   "metadata": {},
   "outputs": [],
   "source": [
    "#If we can now add a column variable named Age_of_contract (1,2,3,4,5) we could use this to help with\n",
    "#future filtering or analysis... Then we could create new CSV's of our filtered stats \n",
    "#to load into a notebook for exploration\n"
   ]
  },
  {
   "cell_type": "code",
   "execution_count": null,
   "id": "83d32490-64c2-4a56-8dbd-e705ca45bf13",
   "metadata": {},
   "outputs": [],
   "source": []
  }
 ],
 "metadata": {
  "kernelspec": {
   "display_name": "Python 3.10 (ipykernel)",
   "language": "python",
   "name": "python3"
  },
  "language_info": {
   "codemirror_mode": {
    "name": "ipython",
    "version": 3
   },
   "file_extension": ".py",
   "mimetype": "text/x-python",
   "name": "python",
   "nbconvert_exporter": "python",
   "pygments_lexer": "ipython3",
   "version": "3.10.11"
  }
 },
 "nbformat": 4,
 "nbformat_minor": 5
}
