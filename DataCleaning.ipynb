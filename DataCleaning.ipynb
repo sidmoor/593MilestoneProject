{
 "cells": [
  {
   "cell_type": "code",
   "execution_count": 1,
   "id": "1e6fb0a0-cf2e-4fc8-9c27-7a8931dc07f3",
   "metadata": {},
   "outputs": [],
   "source": [
    "#Start of the data cleaning process"
   ]
  },
  {
   "cell_type": "code",
   "execution_count": 2,
   "id": "03b9e614-3e01-4b8c-9f2e-7d9e445151ea",
   "metadata": {},
   "outputs": [],
   "source": [
    "#start with imports\n",
    "import numpy as np\n",
    "import pandas as pd"
   ]
  },
  {
   "cell_type": "code",
   "execution_count": 3,
   "id": "4e56fc82-1e41-4f95-9789-a24b269c7654",
   "metadata": {},
   "outputs": [],
   "source": [
    "Advanced_df = pd.read_csv('Assets/NBA_Player_Advanced_Stats.csv')\n",
    "Totals_df = pd.read_csv('Assets/NBA_Player_Total_Stats.csv')\n",
    "Contracts_df = pd.read_csv('Assets/NBA_Contracts.csv')"
   ]
  },
  {
   "cell_type": "code",
   "execution_count": 4,
   "id": "35fb3f22-9c63-4162-a775-4ceb489be026",
   "metadata": {},
   "outputs": [
    {
     "data": {
      "text/html": [
       "<div>\n",
       "<style scoped>\n",
       "    .dataframe tbody tr th:only-of-type {\n",
       "        vertical-align: middle;\n",
       "    }\n",
       "\n",
       "    .dataframe tbody tr th {\n",
       "        vertical-align: top;\n",
       "    }\n",
       "\n",
       "    .dataframe thead th {\n",
       "        text-align: right;\n",
       "    }\n",
       "</style>\n",
       "<table border=\"1\" class=\"dataframe\">\n",
       "  <thead>\n",
       "    <tr style=\"text-align: right;\">\n",
       "      <th></th>\n",
       "      <th>Signing Year</th>\n",
       "      <th>Rank</th>\n",
       "      <th>Player</th>\n",
       "      <th>Position</th>\n",
       "      <th>Team</th>\n",
       "      <th>Age</th>\n",
       "      <th>Contract Length</th>\n",
       "      <th>Total Value</th>\n",
       "      <th>Avg. Value</th>\n",
       "      <th>Guaranteed Money</th>\n",
       "      <th>Contract Type</th>\n",
       "    </tr>\n",
       "  </thead>\n",
       "  <tbody>\n",
       "    <tr>\n",
       "      <th>0</th>\n",
       "      <td>2011</td>\n",
       "      <td>1</td>\n",
       "      <td>Kevin Durant</td>\n",
       "      <td>SF</td>\n",
       "      <td>OKC</td>\n",
       "      <td>22</td>\n",
       "      <td>5</td>\n",
       "      <td>$89,163,134</td>\n",
       "      <td>$17,832,627</td>\n",
       "      <td>$89,163,134</td>\n",
       "      <td>rookie-maximum-extension</td>\n",
       "    </tr>\n",
       "    <tr>\n",
       "      <th>1</th>\n",
       "      <td>2011</td>\n",
       "      <td>2</td>\n",
       "      <td>Kobe Bryant</td>\n",
       "      <td>SF</td>\n",
       "      <td>LAL</td>\n",
       "      <td>32</td>\n",
       "      <td>3</td>\n",
       "      <td>$83,547,447</td>\n",
       "      <td>$27,849,149</td>\n",
       "      <td>$83,547,447</td>\n",
       "      <td>Veteran Extension</td>\n",
       "    </tr>\n",
       "    <tr>\n",
       "      <th>2</th>\n",
       "      <td>2011</td>\n",
       "      <td>3</td>\n",
       "      <td>Zach Randolph</td>\n",
       "      <td>PF</td>\n",
       "      <td>MEM</td>\n",
       "      <td>29</td>\n",
       "      <td>4</td>\n",
       "      <td>$66,000,000</td>\n",
       "      <td>$16,500,000</td>\n",
       "      <td>$66,000,000</td>\n",
       "      <td>Veteran Extension</td>\n",
       "    </tr>\n",
       "    <tr>\n",
       "      <th>3</th>\n",
       "      <td>2011</td>\n",
       "      <td>T4</td>\n",
       "      <td>Al Horford</td>\n",
       "      <td>C</td>\n",
       "      <td>ATL</td>\n",
       "      <td>24</td>\n",
       "      <td>5</td>\n",
       "      <td>$60,000,000</td>\n",
       "      <td>$12,000,000</td>\n",
       "      <td>$60,000,000</td>\n",
       "      <td>Rookie Extension</td>\n",
       "    </tr>\n",
       "    <tr>\n",
       "      <th>4</th>\n",
       "      <td>2011</td>\n",
       "      <td>T4</td>\n",
       "      <td>Joakim Noah</td>\n",
       "      <td>C</td>\n",
       "      <td>CHI</td>\n",
       "      <td>25</td>\n",
       "      <td>5</td>\n",
       "      <td>$60,000,000</td>\n",
       "      <td>$12,000,000</td>\n",
       "      <td>$60,000,000</td>\n",
       "      <td>Rookie Extension</td>\n",
       "    </tr>\n",
       "  </tbody>\n",
       "</table>\n",
       "</div>"
      ],
      "text/plain": [
       "   Signing Year Rank         Player Position Team  Age  Contract Length  \\\n",
       "0          2011    1   Kevin Durant       SF  OKC   22                5   \n",
       "1          2011    2    Kobe Bryant       SF  LAL   32                3   \n",
       "2          2011    3  Zach Randolph       PF  MEM   29                4   \n",
       "3          2011   T4     Al Horford        C  ATL   24                5   \n",
       "4          2011   T4    Joakim Noah        C  CHI   25                5   \n",
       "\n",
       "   Total Value   Avg. Value Guaranteed Money             Contract Type  \n",
       "0  $89,163,134  $17,832,627      $89,163,134  rookie-maximum-extension  \n",
       "1  $83,547,447  $27,849,149      $83,547,447         Veteran Extension  \n",
       "2  $66,000,000  $16,500,000      $66,000,000         Veteran Extension  \n",
       "3  $60,000,000  $12,000,000      $60,000,000          Rookie Extension  \n",
       "4  $60,000,000  $12,000,000      $60,000,000          Rookie Extension  "
      ]
     },
     "execution_count": 4,
     "metadata": {},
     "output_type": "execute_result"
    }
   ],
   "source": [
    "Contracts_df.head()"
   ]
  },
  {
   "cell_type": "code",
   "execution_count": 5,
   "id": "7e882a90-f274-4102-a846-be8f332f1b3d",
   "metadata": {},
   "outputs": [],
   "source": [
    "#Totals_df.info(), Advanced_df.info()"
   ]
  },
  {
   "cell_type": "code",
   "execution_count": 6,
   "id": "ac6e9d17-acb3-401b-af68-1c63d5c49c55",
   "metadata": {
    "scrolled": true
   },
   "outputs": [
    {
     "name": "stdout",
     "output_type": "stream",
     "text": [
      "There are 94 unique players of the 106 contracts\n"
     ]
    }
   ],
   "source": [
    "player_names = Contracts_df['Player'].unique()\n",
    "unique_players = len(player_names)\n",
    "total_contracts = len(Contracts_df)\n",
    "\n",
    "print(f'There are {unique_players} unique players of the {total_contracts} contracts')"
   ]
  },
  {
   "cell_type": "code",
   "execution_count": 7,
   "id": "0c5cefa4-cd07-4420-8317-f3ef52fa1908",
   "metadata": {},
   "outputs": [
    {
     "name": "stdout",
     "output_type": "stream",
     "text": [
      "['Nikola Vucevic', 'Anderson Varejao', 'Marcus Morris Sr.', 'Jonas Valanciunas', 'C.J. McCollum', 'Dennis Schröder', 'Louis Williams']\n"
     ]
    }
   ],
   "source": [
    "#Some of our players in our contracts_df have different names than what show in the stats_dfs\n",
    "adv_players_unq = set(Advanced_df['Player'].unique())\n",
    "total_players_unq = set(Totals_df['Player'].unique())\n",
    "missing_players = [name for name in player_names if name not in adv_players_unq and name not in total_players_unq]\n",
    "print(missing_players)\n",
    "# Missing Players: ['Nikola Vucevic', 'Anderson Varejao', 'Marcus Morris Sr.', 'Jonas Valanciunas', 'C.J. McCollum', 'Dennis Schröder', 'Louis Williams']\n",
    "#These missing players are most likely due to either nicknames(Lou Williams) or special characters(Jonas Valančiūnas)"
   ]
  },
  {
   "cell_type": "code",
   "execution_count": 8,
   "id": "ba6bca9a-36b7-4e9d-9d3c-8eead12973e3",
   "metadata": {},
   "outputs": [
    {
     "name": "stdout",
     "output_type": "stream",
     "text": [
      "Marcus Morris\n",
      "Lou Williams\n",
      "Jonas ValanÄiÅ«nas\n",
      "Nikola VuÄeviÄ\n",
      "CJ McCollum\n",
      "Dennis SchrÃ¶der\n",
      "Anderson VarejÃ£o\n"
     ]
    }
   ],
   "source": [
    "#Let's figure out our spellings within the player stats datasets\n",
    "#The following code will print out a few extra names than what we need, but it will allow us to see the spellings within the total_players_unq and likely the adv_players_unq aswell\n",
    "for player in total_players_unq:\n",
    "    if 'Nikola Vu' in player or 'Anderson Var' in player or 'Marcus Morris' in player or 'Jonas Val' in player or 'Dennis Sch' in player or 'Lou Williams' in player or 'McCollum' in player:\n",
    "        print(player)\n",
    "\n",
    "#Sinec some of the names in the total_players_unq have some odd spelling (Schroder and Varejao) we will set those names to the name found in the COntracts_df"
   ]
  },
  {
   "cell_type": "code",
   "execution_count": 9,
   "id": "03ae4409-96e5-4c0a-943b-d1d83638b306",
   "metadata": {},
   "outputs": [
    {
     "name": "stdout",
     "output_type": "stream",
     "text": [
      "Players not in totals set()\n",
      "Players not in advanced set()\n"
     ]
    }
   ],
   "source": [
    "name_corrections = {\n",
    "    'Nikola VuÄeviÄ': 'Nikola Vucevic',\n",
    "    'Jonas ValanÄiÅ«nas': 'Jonas Valanciunas',\n",
    "    'Anderson VarejÃ£o': 'Anderson Varejao',\n",
    "    'Marcus Morris': 'Marcus Morris Sr.',\n",
    "    'CJ McCollum': 'C.J. McCollum',\n",
    "    'Dennis SchrÃ¶der': 'Dennis Schröder',\n",
    "    'Lou Williams': 'Louis Williams'\n",
    "}\n",
    "\n",
    "Advanced_df['Player'] = Advanced_df['Player'].replace(name_corrections)\n",
    "Totals_df['Player'] = Totals_df['Player'].replace(name_corrections)\n",
    "\n",
    "#Let's make sure that worked though, and make sure that both of our Basketball Reference CSVs had the same names used\n",
    "advanced_players = set(Advanced_df[\"Player\"].unique())\n",
    "totals_players = set(Totals_df[\"Player\"].unique())\n",
    "contract_players = set(player_names)\n",
    "\n",
    "unmatched_totals = contract_players - totals_players\n",
    "print('Players not in totals', unmatched_totals)\n",
    "unmatched_adv = contract_players - advanced_players\n",
    "print('Players not in advanced', unmatched_adv)\n",
    "\n",
    "#Our print outs show empty lists which means our originally \"missing\" (misspelled) names now match those used in our Contract database. "
   ]
  },
  {
   "cell_type": "code",
   "execution_count": 10,
   "id": "68bd988d-2dfe-4a00-b43e-3112fdda8763",
   "metadata": {},
   "outputs": [
    {
     "name": "stdout",
     "output_type": "stream",
     "text": [
      "Advanced_df: (9262, 30) → (1179, 30)\n",
      "Totals_df: (9262, 33) → (1179, 33)\n"
     ]
    }
   ],
   "source": [
    "#Now we can filter down our stats satasets to only include the players that are in our contract data:\n",
    "Advanced_df_filtered = Advanced_df[Advanced_df[\"Player\"].isin(player_names)]\n",
    "print(f\"Advanced_df: {Advanced_df.shape} → {Advanced_df_filtered.shape}\")\n",
    "\n",
    "Totals_df_filtered = Totals_df[Totals_df[\"Player\"].isin(player_names)]\n",
    "print(f\"Totals_df: {Totals_df.shape} → {Totals_df_filtered.shape}\")"
   ]
  },
  {
   "cell_type": "code",
   "execution_count": 11,
   "id": "fd16b3bc-5b5b-4682-a659-728fdb6f3a43",
   "metadata": {},
   "outputs": [],
   "source": [
    "#Testing:\n",
    "#Advanced_df_filtered[Advanced_df_filtered[\"Player\"] == 'Kevin Love']"
   ]
  },
  {
   "cell_type": "markdown",
   "id": "c258fc22-6a41-438d-8cbc-7e904ac652a5",
   "metadata": {},
   "source": [
    "# More Filtering!\n",
    "### Here we will filter down our dataframe some more to filter out any rows that are not included in our Contracts_df"
   ]
  },
  {
   "cell_type": "code",
   "execution_count": 12,
   "id": "c931a5b6-19c8-4b9a-bba0-fc684f916835",
   "metadata": {},
   "outputs": [],
   "source": [
    "# Let's create a dict obj that will contain all the players in our contract_df with there give contract years\n",
    "contract_years_dict = {}\n",
    "\n",
    "for _,row in Contracts_df.iterrows():\n",
    "    player = row['Player']\n",
    "    signing_year = row['Signing Year']\n",
    "    length_contract = row['Contract Length']\n",
    "\n",
    "    #We need to make sure we keep all instances of contract signings so as we get one we will extend our dict\n",
    "    #by extending we should be able to avoid any instances of overwritting earlier contracts with later ones\n",
    "    #We can do this by checking if the player variable in our loop is already in our dict, and if not we will add them\n",
    "    if player not in contract_years_dict:\n",
    "        contract_years_dict[player] = [] \n",
    "    contract_years_dict[player].extend(range(signing_year, signing_year + length_contract)) #For the given player, add stats\n",
    "\n",
    "#print(contract_years_dict)\n",
    "#Our output looks like: {'Kevin Durant': [2011, 2012, 2013, 2014, 2015],\n",
    "#                        'Kobe Bryant': [2014, 2015], \n",
    "#                        'Zach Randolph': [2015, 2016], ....\n",
    "\n",
    "#Now that we have each player, and their contract years, we can filter our data even more to only contain their years \n",
    "#that match with the contract extensions from our Contracts_df \n",
    "filtered_totals = []\n",
    "filtered_advanced = []\n",
    "\n",
    "#For each row in our stats dataframes, we will grab the player name and season of play,\n",
    "#we then check if this name and season/year is within our contract_dict. If it is we add it to our filter\n",
    "for index, row in Totals_df_filtered.iterrows():\n",
    "    player, year = row['Player'], row['Season']\n",
    "    if player in contract_years_dict and year in contract_years_dict[player]:\n",
    "        filtered_totals.append(row)\n",
    "\n",
    "for index, row in Advanced_df_filtered.iterrows():\n",
    "    player, year = row['Player'], row['Season']\n",
    "    if player in contract_years_dict and year in contract_years_dict[player]:\n",
    "        filtered_advanced.append(row)\n",
    "        "
   ]
  },
  {
   "cell_type": "code",
   "execution_count": 13,
   "id": "94b4745a-3b7e-48d8-bdfc-2dd6cb0a4a42",
   "metadata": {},
   "outputs": [
    {
     "name": "stdout",
     "output_type": "stream",
     "text": [
      "Totals_df: (489, 33)\n",
      "Advanced_df: (489, 30)\n"
     ]
    }
   ],
   "source": [
    "#Now that we have our filter from above(as a list of lists) we can turn it back into a dataframe\n",
    "#this will let us do more statistical analysis\n",
    "Totals_df_years_filtered = pd.DataFrame(filtered_totals, columns=Totals_df.columns)\n",
    "print(f'Totals_df: {Totals_df_years_filtered.shape}')\n",
    "\n",
    "Advanced_df_years_filtered = pd.DataFrame(filtered_advanced, columns=Advanced_df.columns)\n",
    "print(f'Advanced_df: {Advanced_df_years_filtered.shape}')"
   ]
  },
  {
   "cell_type": "code",
   "execution_count": 14,
   "id": "1b0d6e5a-27cf-4ce7-8218-747f555ad97e",
   "metadata": {},
   "outputs": [
    {
     "name": "stdout",
     "output_type": "stream",
     "text": [
      "      Season   Rank      Player   Age Team Pos     G    GS      MP   PER  ...  \\\n",
      "928     2012  327.0  Kevin Love  24.0  MIN  PF  18.0  18.0   618.0  17.9  ...   \n",
      "1143    2013   18.0  Kevin Love  25.0  MIN  PF  77.0  77.0  2797.0  26.9  ...   \n",
      "1763    2014   24.0  Kevin Love  26.0  CLE  PF  75.0  75.0  2532.0  18.8  ...   \n",
      "2439    2015   46.0  Kevin Love  27.0  CLE  PF  77.0  77.0  2424.0  19.0  ...   \n",
      "5046    2019   96.0  Kevin Love  31.0  CLE  PF  56.0  56.0  1780.0  17.9  ...   \n",
      "6023    2020  338.0  Kevin Love  32.0  CLE  PF  25.0  25.0   622.0  15.1  ...   \n",
      "6475    2021  153.0  Kevin Love  33.0  CLE   C  74.0   4.0  1665.0  19.6  ...   \n",
      "7378    2022  223.0  Kevin Love  34.0  2TM  PF  62.0  20.0  1240.0  13.1  ...   \n",
      "7379    2022  223.0  Kevin Love  34.0  CLE  PF  41.0   3.0   821.0  13.6  ...   \n",
      "7380    2022  223.0  Kevin Love  34.0  MIA  PF  21.0  17.0   419.0  12.3  ...   \n",
      "\n",
      "      USG%   OWS  DWS    WS  WS/48  OBPM  DBPM  BPM  VORP          Honors  \n",
      "928   28.9   0.1  0.9   1.1  0.084   1.4  -1.0  0.4   0.4             NaN  \n",
      "1143  28.8  10.6  3.7  14.3  0.245   8.3   0.6  8.9   7.7  MVP-11,AS,NBA2  \n",
      "1763  21.7   5.8  2.9   8.7  0.165   3.2  -0.4  2.7   3.0             NaN  \n",
      "2439  23.4   4.7  3.8   8.5  0.169   3.0   0.3  3.3   3.3             NaN  \n",
      "5046  23.1   2.5  1.3   3.8  0.101   2.6  -0.5  2.0   1.8             NaN  \n",
      "6023  21.9   0.3  0.6   0.9  0.073   0.9  -0.9 -0.1   0.3             NaN  \n",
      "6475  25.1   3.2  2.5   5.7  0.164   4.4   0.1  4.5   2.7          6MOY-2  \n",
      "7378  19.2   0.6  2.0   2.6  0.099   0.2   0.4  0.6   0.8             NaN  \n",
      "7379  19.6   0.5  1.4   1.9  0.112   0.8   0.6  1.4   0.7             NaN  \n",
      "7380  18.5   0.1  0.6   0.7  0.075  -1.0  -0.1 -1.1   0.1             NaN  \n",
      "\n",
      "[10 rows x 30 columns]\n"
     ]
    }
   ],
   "source": [
    "#Let's take a look at an example. Kevin Love is a player with 2 different contracts signed\n",
    "print(Advanced_df_years_filtered[Advanced_df_years_filtered[\"Player\"] == 'Kevin Love'])"
   ]
  },
  {
   "cell_type": "code",
   "execution_count": 15,
   "id": "51e62ad1-69d5-4f83-ba0d-69b2e5846f68",
   "metadata": {},
   "outputs": [
    {
     "name": "stdout",
     "output_type": "stream",
     "text": [
      "We have our 94 unique players and their signing years as a list for each index\n",
      "[2012, 2019]\n"
     ]
    }
   ],
   "source": [
    "#If we can now add a column variable named Age_of_contract (1,2,3,4,5) we could use this to help with\n",
    "#future filtering or analysis... Then we could create new CSV's of our filtered stats \n",
    "#to load into a notebook for exploration\n",
    "\n",
    "#We can start by creating a \n",
    "signing_years = Contracts_df.groupby('Player')['Signing Year'].apply(list)\n",
    "#This gives us the Players name as index and the signing year as the value\n",
    "\n",
    "print(f'We have our {len(signing_years)} unique players and their signing years as a list for each index')\n",
    "print(signing_years['Kevin Love'])\n",
    "#This example shows that if we look up KD we get his 1 year in the Contracts_df, and Kevin Love gets us 2 years"
   ]
  },
  {
   "cell_type": "code",
   "execution_count": 16,
   "id": "83d32490-64c2-4a56-8dbd-e705ca45bf13",
   "metadata": {},
   "outputs": [],
   "source": [
    "#We can use this singing_years as a way to calculate contract_age\n",
    "#Let's create a function that we can apply on each of our dataframes that gets the contract_age from each row\n",
    "\n",
    "def get_contract_age(row):\n",
    "    #Who are we looking at and what year of their stats_df is it?\n",
    "    player = row['Player']\n",
    "    season = row['Season']\n",
    "\n",
    "    if player in signing_years:\n",
    "        possible_years = signing_years[player] #This will include all the signing years from our DF by teh given player name\n",
    "\n",
    "        #It is important that we pick the correct year of the possible years. To do this we will want to make sure that\n",
    "        #possible_year we use is <= the season value, but we also must make sure it is the MAX of any possible values\n",
    "        #Kevin Love shows 2 signing years 2012 and 2019. We must use the 2019 contract if say we are looking at 2021 data\n",
    "\n",
    "        year_signed = max([year for year in possible_years if year <= season], default=None)\n",
    "\n",
    "        if year_signed:\n",
    "            return season - year_signed + 1 \n",
    "        \n"
   ]
  },
  {
   "cell_type": "code",
   "execution_count": 17,
   "id": "da441f7d-6aa9-4275-8960-c595b716df34",
   "metadata": {},
   "outputs": [],
   "source": [
    "#Now we can call this against to calculate a new column variable in our dataframes\n",
    "Advanced_df_years_filtered[\"Contract Age\"] = Advanced_df_years_filtered.apply(get_contract_age, axis=1)\n",
    "Totals_df_years_filtered[\"Contract Age\"] = Totals_df_years_filtered.apply(get_contract_age, axis=1)"
   ]
  },
  {
   "cell_type": "code",
   "execution_count": 18,
   "id": "ef4b19fc-dc02-42fd-b4ec-5cc6f2a9ad3b",
   "metadata": {
    "scrolled": true
   },
   "outputs": [
    {
     "name": "stdout",
     "output_type": "stream",
     "text": [
      "      Season   Rank      Player   Age Team Pos     G    GS      MP   PER  ...  \\\n",
      "928     2012  327.0  Kevin Love  24.0  MIN  PF  18.0  18.0   618.0  17.9  ...   \n",
      "1143    2013   18.0  Kevin Love  25.0  MIN  PF  77.0  77.0  2797.0  26.9  ...   \n",
      "1763    2014   24.0  Kevin Love  26.0  CLE  PF  75.0  75.0  2532.0  18.8  ...   \n",
      "2439    2015   46.0  Kevin Love  27.0  CLE  PF  77.0  77.0  2424.0  19.0  ...   \n",
      "5046    2019   96.0  Kevin Love  31.0  CLE  PF  56.0  56.0  1780.0  17.9  ...   \n",
      "6023    2020  338.0  Kevin Love  32.0  CLE  PF  25.0  25.0   622.0  15.1  ...   \n",
      "6475    2021  153.0  Kevin Love  33.0  CLE   C  74.0   4.0  1665.0  19.6  ...   \n",
      "7378    2022  223.0  Kevin Love  34.0  2TM  PF  62.0  20.0  1240.0  13.1  ...   \n",
      "7379    2022  223.0  Kevin Love  34.0  CLE  PF  41.0   3.0   821.0  13.6  ...   \n",
      "7380    2022  223.0  Kevin Love  34.0  MIA  PF  21.0  17.0   419.0  12.3  ...   \n",
      "\n",
      "       OWS  DWS    WS  WS/48  OBPM  DBPM  BPM  VORP          Honors  \\\n",
      "928    0.1  0.9   1.1  0.084   1.4  -1.0  0.4   0.4             NaN   \n",
      "1143  10.6  3.7  14.3  0.245   8.3   0.6  8.9   7.7  MVP-11,AS,NBA2   \n",
      "1763   5.8  2.9   8.7  0.165   3.2  -0.4  2.7   3.0             NaN   \n",
      "2439   4.7  3.8   8.5  0.169   3.0   0.3  3.3   3.3             NaN   \n",
      "5046   2.5  1.3   3.8  0.101   2.6  -0.5  2.0   1.8             NaN   \n",
      "6023   0.3  0.6   0.9  0.073   0.9  -0.9 -0.1   0.3             NaN   \n",
      "6475   3.2  2.5   5.7  0.164   4.4   0.1  4.5   2.7          6MOY-2   \n",
      "7378   0.6  2.0   2.6  0.099   0.2   0.4  0.6   0.8             NaN   \n",
      "7379   0.5  1.4   1.9  0.112   0.8   0.6  1.4   0.7             NaN   \n",
      "7380   0.1  0.6   0.7  0.075  -1.0  -0.1 -1.1   0.1             NaN   \n",
      "\n",
      "      Contract Age  \n",
      "928              1  \n",
      "1143             2  \n",
      "1763             3  \n",
      "2439             4  \n",
      "5046             1  \n",
      "6023             2  \n",
      "6475             3  \n",
      "7378             4  \n",
      "7379             4  \n",
      "7380             4  \n",
      "\n",
      "[10 rows x 31 columns]\n"
     ]
    }
   ],
   "source": [
    "#Let's take a look at an example again. Early we say Kevin Love's contracts,\n",
    "#lets make sure his contract age matches with each instance of his stats data\n",
    "print(Advanced_df_years_filtered[Advanced_df_years_filtered[\"Player\"] == 'Kevin Love'])"
   ]
  },
  {
   "cell_type": "code",
   "execution_count": 23,
   "id": "d69b5c26-d84e-4f0a-93af-8f78bba19db8",
   "metadata": {},
   "outputs": [],
   "source": [
    "#Before beginning our analysis lets add a contract year 'flag' to the data so we can use it as a marker for a players final year of their contract\n",
    "# Create a dictionary to track the last contract year for each player\n",
    "final_contract_years = {}\n",
    "\n",
    "for _, row in Contracts_df.iterrows():\n",
    "    player, signing_year, length = row[\"Player\"], row[\"Signing Year\"], row[\"Contract Length\"]\n",
    "    \n",
    "    last_contract_year = signing_year + length - 1  # Determine final season before new deal\n",
    "\n",
    "    if player not in final_contract_years:\n",
    "        final_contract_years[player] = []\n",
    "    \n",
    "    final_contract_years[player].append(last_contract_year) \n",
    "\n",
    "\n",
    "#now that we have our players with their final contract year we can create a function to flag the players final year as a new column\n",
    "def flag_contract_year(player, season):\n",
    "    if player in final_contract_years and season in final_contract_years[player]:\n",
    "        return 1\n",
    "    else:\n",
    "        return 0"
   ]
  },
  {
   "cell_type": "code",
   "execution_count": 27,
   "id": "7d79878a-3e42-4f33-9f57-9d9584155a32",
   "metadata": {},
   "outputs": [
    {
     "name": "stdout",
     "output_type": "stream",
     "text": [
      "      Season   Rank      Player   Age Team Pos     G    GS      MP   PER  ...  \\\n",
      "928     2012  327.0  Kevin Love  24.0  MIN  PF  18.0  18.0   618.0  17.9  ...   \n",
      "1143    2013   18.0  Kevin Love  25.0  MIN  PF  77.0  77.0  2797.0  26.9  ...   \n",
      "1763    2014   24.0  Kevin Love  26.0  CLE  PF  75.0  75.0  2532.0  18.8  ...   \n",
      "2439    2015   46.0  Kevin Love  27.0  CLE  PF  77.0  77.0  2424.0  19.0  ...   \n",
      "5046    2019   96.0  Kevin Love  31.0  CLE  PF  56.0  56.0  1780.0  17.9  ...   \n",
      "6023    2020  338.0  Kevin Love  32.0  CLE  PF  25.0  25.0   622.0  15.1  ...   \n",
      "6475    2021  153.0  Kevin Love  33.0  CLE   C  74.0   4.0  1665.0  19.6  ...   \n",
      "7378    2022  223.0  Kevin Love  34.0  2TM  PF  62.0  20.0  1240.0  13.1  ...   \n",
      "7379    2022  223.0  Kevin Love  34.0  CLE  PF  41.0   3.0   821.0  13.6  ...   \n",
      "7380    2022  223.0  Kevin Love  34.0  MIA  PF  21.0  17.0   419.0  12.3  ...   \n",
      "\n",
      "        WS  WS/48  OBPM  DBPM  BPM  VORP          Honors  Contract Age  \\\n",
      "928    1.1  0.084   1.4  -1.0  0.4   0.4             NaN             1   \n",
      "1143  14.3  0.245   8.3   0.6  8.9   7.7  MVP-11,AS,NBA2             2   \n",
      "1763   8.7  0.165   3.2  -0.4  2.7   3.0             NaN             3   \n",
      "2439   8.5  0.169   3.0   0.3  3.3   3.3             NaN             4   \n",
      "5046   3.8  0.101   2.6  -0.5  2.0   1.8             NaN             1   \n",
      "6023   0.9  0.073   0.9  -0.9 -0.1   0.3             NaN             2   \n",
      "6475   5.7  0.164   4.4   0.1  4.5   2.7          6MOY-2             3   \n",
      "7378   2.6  0.099   0.2   0.4  0.6   0.8             NaN             4   \n",
      "7379   1.9  0.112   0.8   0.6  1.4   0.7             NaN             4   \n",
      "7380   0.7  0.075  -1.0  -0.1 -1.1   0.1             NaN             4   \n",
      "\n",
      "      Contract_Year_Flag  CY Flag  \n",
      "928                    0        0  \n",
      "1143                   0        0  \n",
      "1763                   0        0  \n",
      "2439                   1        1  \n",
      "5046                   0        0  \n",
      "6023                   0        0  \n",
      "6475                   0        0  \n",
      "7378                   1        1  \n",
      "7379                   1        1  \n",
      "7380                   1        1  \n",
      "\n",
      "[10 rows x 33 columns]\n"
     ]
    }
   ],
   "source": [
    "#Now lets apply our function and check on Kevin Love again\n",
    "Totals_df_years_filtered[\"CY Flag\"] = Totals_df_years_filtered.apply(lambda row: flag_contract_year(row[\"Player\"], row[\"Season\"]), axis=1)\n",
    "\n",
    "Advanced_df_years_filtered[\"CY Flag\"] = Advanced_df_years_filtered.apply(lambda row: flag_contract_year(row[\"Player\"], row[\"Season\"]), axis=1)\n",
    "print(Advanced_df_years_filtered[Advanced_df_years_filtered[\"Player\"] == 'Kevin Love']) \n",
    "# we can now see the enw variable CY flag that is 1 for contract years"
   ]
  },
  {
   "cell_type": "code",
   "execution_count": 28,
   "id": "d9e09b59-6df8-430a-920b-0bd423a9c2f1",
   "metadata": {},
   "outputs": [],
   "source": [
    "#This appears to work well. Now we can take these filtered datasets and turn them into our CSV files to use elsewhere\n",
    "Advanced_df_years_filtered.to_csv('Assets/Player_Advanced_Filter.csv', index=False)\n",
    "Totals_df_years_filtered.to_csv('Assets/Player_Totals_Filter.csv', index=False)"
   ]
  },
  {
   "cell_type": "code",
   "execution_count": null,
   "id": "a3a79d3f-8379-4c01-9355-d97c1a3b0784",
   "metadata": {},
   "outputs": [],
   "source": []
  }
 ],
 "metadata": {
  "kernelspec": {
   "display_name": "Python 3.10 (ipykernel)",
   "language": "python",
   "name": "python3"
  },
  "language_info": {
   "codemirror_mode": {
    "name": "ipython",
    "version": 3
   },
   "file_extension": ".py",
   "mimetype": "text/x-python",
   "name": "python",
   "nbconvert_exporter": "python",
   "pygments_lexer": "ipython3",
   "version": "3.10.11"
  }
 },
 "nbformat": 4,
 "nbformat_minor": 5
}
