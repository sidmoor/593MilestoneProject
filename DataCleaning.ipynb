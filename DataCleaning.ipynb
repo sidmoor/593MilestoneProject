{
 "cells": [
  {
   "cell_type": "code",
   "execution_count": 27,
   "id": "1e6fb0a0-cf2e-4fc8-9c27-7a8931dc07f3",
   "metadata": {},
   "outputs": [],
   "source": [
    "#Start of the data cleaning process"
   ]
  },
  {
   "cell_type": "code",
   "execution_count": 3,
   "id": "03b9e614-3e01-4b8c-9f2e-7d9e445151ea",
   "metadata": {},
   "outputs": [],
   "source": [
    "#start with imports\n",
    "import numpy as np\n",
    "import pandas as pd\n",
    "import matplotlib as mpl"
   ]
  },
  {
   "cell_type": "code",
   "execution_count": 4,
   "id": "4e56fc82-1e41-4f95-9789-a24b269c7654",
   "metadata": {},
   "outputs": [],
   "source": [
    "Advanced_df = pd.read_csv('Assets/NBA_Player_Advanced_Stats.csv')\n",
    "Totals_df = pd.read_csv('Assets/NBA_Player_Total_Stats.csv')\n",
    "Contracts_df = pd.read_csv('Assets/NBA_Contracts.csv')"
   ]
  },
  {
   "cell_type": "code",
   "execution_count": 5,
   "id": "35fb3f22-9c63-4162-a775-4ceb489be026",
   "metadata": {},
   "outputs": [],
   "source": [
    "#Contracts_df.info()"
   ]
  },
  {
   "cell_type": "code",
   "execution_count": 6,
   "id": "7e882a90-f274-4102-a846-be8f332f1b3d",
   "metadata": {},
   "outputs": [],
   "source": [
    "#Totals_df.info(), Advanced_df.info()"
   ]
  },
  {
   "cell_type": "code",
   "execution_count": 7,
   "id": "ac6e9d17-acb3-401b-af68-1c63d5c49c55",
   "metadata": {
    "scrolled": true
   },
   "outputs": [
    {
     "name": "stdout",
     "output_type": "stream",
     "text": [
      "There are 94 unique players of the 106 contracts\n"
     ]
    }
   ],
   "source": [
    "player_names = Contracts_df['Player'].unique()\n",
    "unique_players = len(player_names)\n",
    "total_contracts = len(Contracts_df)\n",
    "\n",
    "print(f'There are {unique_players} unique players of the {total_contracts} contracts')"
   ]
  },
  {
   "cell_type": "code",
   "execution_count": 10,
   "id": "0c5cefa4-cd07-4420-8317-f3ef52fa1908",
   "metadata": {},
   "outputs": [
    {
     "name": "stdout",
     "output_type": "stream",
     "text": [
      "['Nikola Vucevic', 'Anderson Varejao', 'Marcus Morris Sr.', 'Jonas Valanciunas', 'C.J. McCollum', 'Dennis Schröder', 'Louis Williams']\n"
     ]
    }
   ],
   "source": [
    "#Some of our players in our contracts_df have different names than what show in the stats_dfs\n",
    "adv_players_unq = set(Advanced_df['Player'].unique())\n",
    "total_players_unq = set(Totals_df['Player'].unique())\n",
    "missing_players = [name for name in player_names if name not in adv_players_unq and name not in total_players_unq]\n",
    "print(missing_players)\n",
    "# Missing Players: ['Nikola Vucevic', 'Anderson Varejao', 'Marcus Morris Sr.', 'Jonas Valanciunas', 'C.J. McCollum', 'Dennis Schröder', 'Louis Williams']\n",
    "#These missing players are most likely due to either nicknames(Lou Williams) or special characters(Jonas Valančiūnas)"
   ]
  },
  {
   "cell_type": "code",
   "execution_count": 18,
   "id": "ba6bca9a-36b7-4e9d-9d3c-8eead12973e3",
   "metadata": {},
   "outputs": [
    {
     "name": "stdout",
     "output_type": "stream",
     "text": [
      "Nikola PekoviÄ\n",
      "Monte Morris\n",
      "Darius Morris\n",
      "Justin Anderson\n",
      "Alan Anderson\n",
      "Nikola MirotiÄ\n",
      "Lou Williams\n",
      "Nikola JoviÄ\n",
      "Dexter Dennis\n",
      "Nikola VuÄeviÄ\n",
      "Anderson VarejÃ£o\n",
      "Morris Almond\n",
      "Kyle Anderson\n",
      "Ryan Anderson\n",
      "James Anderson\n",
      "Nikola JokiÄ\n",
      "Dennis Horner\n",
      "CJ McCollum\n",
      "Marcus Morris\n",
      "Dennis Smith Jr.\n",
      "Markieff Morris\n",
      "Jaylen Morris\n",
      "Jonas Jerebko\n",
      "Dennis SchrÃ¶der\n",
      "RayJ Dennis\n",
      "Jonas ValanÄiÅ«nas\n",
      "Juan Toscano-Anderson\n"
     ]
    }
   ],
   "source": [
    "#Let's figure out our spellings within the player stats datasets\n",
    "#The following code will print out a few extra names than what we need, but it will allow us to see the spellings within the total_players_unq and likely the adv_players_unq aswell\n",
    "for player in total_players_unq:\n",
    "    if 'Nikola' in player or 'Anderson' in player or 'Morris' in player or 'Jonas' in player or 'Dennis' in player or 'Lou Williams' in player or 'McCollum' in player:\n",
    "        print(player)\n",
    "\n",
    "#Sinec some of the names in the total_players_unq have some odd spelling (Schroder and Varejao) we will set those names to the name found in the COntracts_df"
   ]
  },
  {
   "cell_type": "code",
   "execution_count": 25,
   "id": "03ae4409-96e5-4c0a-943b-d1d83638b306",
   "metadata": {},
   "outputs": [
    {
     "name": "stdout",
     "output_type": "stream",
     "text": [
      "Players not in totals set()\n",
      "Players not in advanced set()\n"
     ]
    }
   ],
   "source": [
    "name_corrections = {\n",
    "    'Nikola VuÄeviÄ': 'Nikola Vucevic',\n",
    "    'Jonas ValanÄiÅ«nas': 'Jonas Valanciunas',\n",
    "    'Anderson VarejÃ£o': 'Anderson Varejao',\n",
    "    'Marcus Morris': 'Marcus Morris Sr.',\n",
    "    'CJ McCollum': 'C.J. McCollum',\n",
    "    'Dennis SchrÃ¶der': 'Dennis Schröder',\n",
    "    'Lou Williams': 'Louis Williams'\n",
    "}\n",
    "\n",
    "Advanced_df['Player'] = Advanced_df['Player'].replace(name_corrections)\n",
    "Totals_df['Player'] = Totals_df['Player'].replace(name_corrections)\n",
    "\n",
    "#Let's make sure that worked though, and make sure that both of our Basketball Reference CSVs had the same names used\n",
    "advanced_players = set(Advanced_df[\"Player\"].unique())\n",
    "totals_players = set(Totals_df[\"Player\"].unique())\n",
    "contract_players = set(player_names)\n",
    "\n",
    "unmatched_totals = contract_players - totals_players\n",
    "print('Players not in totals', unmatched_totals)\n",
    "unmatched_adv = contract_players - advanced_players\n",
    "print('Players not in advanced', unmatched_adv)\n",
    "\n",
    "#Our print outs show empty lists which means our originally \"missing\" (misspelled) names now match those used in our Contract database. "
   ]
  },
  {
   "cell_type": "code",
   "execution_count": 26,
   "id": "68bd988d-2dfe-4a00-b43e-3112fdda8763",
   "metadata": {},
   "outputs": [
    {
     "name": "stdout",
     "output_type": "stream",
     "text": [
      "Advanced_df: (9262, 30) → (1179, 30)\n",
      "Totals_df: (9262, 33) → (1179, 33)\n"
     ]
    }
   ],
   "source": [
    "#Now we can filter down our stats satasets to only include the players that are in our contract data:\n",
    "Advanced_df_filtered = Advanced_df[Advanced_df[\"Player\"].isin(player_names)]\n",
    "print(f\"Advanced_df: {Advanced_df.shape} → {Advanced_df_filtered.shape}\")\n",
    "\n",
    "Totals_df_filtered = Totals_df[Totals_df[\"Player\"].isin(player_names)]\n",
    "print(f\"Totals_df: {Totals_df.shape} → {Totals_df_filtered.shape}\")"
   ]
  },
  {
   "cell_type": "code",
   "execution_count": null,
   "id": "5c5b013d-9a5a-4b73-9af6-0e218cafd713",
   "metadata": {},
   "outputs": [],
   "source": []
  }
 ],
 "metadata": {
  "kernelspec": {
   "display_name": "Python 3.10 (ipykernel)",
   "language": "python",
   "name": "python3"
  },
  "language_info": {
   "codemirror_mode": {
    "name": "ipython",
    "version": 3
   },
   "file_extension": ".py",
   "mimetype": "text/x-python",
   "name": "python",
   "nbconvert_exporter": "python",
   "pygments_lexer": "ipython3",
   "version": "3.10.11"
  }
 },
 "nbformat": 4,
 "nbformat_minor": 5
}
