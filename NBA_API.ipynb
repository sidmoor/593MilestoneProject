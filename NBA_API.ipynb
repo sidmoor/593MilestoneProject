{
 "cells": [
  {
   "cell_type": "markdown",
   "id": "31415ad8-329b-4b55-9a47-5f937e44dfe8",
   "metadata": {},
   "source": [
    "# This did not end up working as I had hoped.\n",
    "## Keeping here if need or interested"
   ]
  },
  {
   "cell_type": "code",
   "execution_count": 104,
   "id": "49a48e62-1c89-4ba5-a585-ffca9f7f0130",
   "metadata": {},
   "outputs": [],
   "source": [
    "#pip install nba_api\n",
    "#This did not end up working as I had hoped. Constantly got timeouts from the API and was not able to grab the data"
   ]
  },
  {
   "cell_type": "code",
   "execution_count": 102,
   "id": "bb547bb1-a54d-400e-8eed-ab46dbb041ce",
   "metadata": {},
   "outputs": [],
   "source": [
    "#pip install pandas"
   ]
  },
  {
   "cell_type": "code",
   "execution_count": 91,
   "id": "010e96a0-42c2-4268-b5fb-f8f1b222aa5f",
   "metadata": {},
   "outputs": [],
   "source": [
    "# Always start with the imports \n",
    "import pandas as pd\n",
    "import time\n",
    "from nba_api.stats.static import players\n",
    "from nba_api.stats.endpoints import PlayerCareerStats, LeagueDashPlayerStats\n",
    "from nba_api.stats.endpoints import PlayerDashboardByYearOverYear"
   ]
  },
  {
   "cell_type": "code",
   "execution_count": null,
   "id": "e5f51f07-1248-43db-a4f2-5098b5a80b44",
   "metadata": {},
   "outputs": [],
   "source": []
  },
  {
   "cell_type": "code",
   "execution_count": 30,
   "id": "3932f3ca-c716-4ef0-8c4b-cc1f3f9011f4",
   "metadata": {},
   "outputs": [],
   "source": [
    "#Lets load in our contract data so we can get all of the unique player names.\n",
    "df_contracts = pd.read_csv('Assets/NBA_Contracts.csv')\n",
    "total_contracts = len(df_contracts)\n",
    "\n",
    "# df_contracts.head() #Let's make sure things loaded in well "
   ]
  },
  {
   "cell_type": "code",
   "execution_count": 18,
   "id": "b5177b27-7f39-4561-b05b-d0fb9103f59f",
   "metadata": {},
   "outputs": [
    {
     "name": "stdout",
     "output_type": "stream",
     "text": [
      "There are 94 unique players of the 106 contracts, each will need a Player_ID\n"
     ]
    }
   ],
   "source": [
    "#Now that we have our df_contracts we can create a list of unique player names\n",
    "player_names = df_contracts['Player'].unique().tolist()\n",
    "unique_players = len(player_names)\n",
    "\n",
    "print(f'There are {unique_players} unique players of the {total_contracts} contracts, each will need a Player_ID')"
   ]
  },
  {
   "cell_type": "markdown",
   "id": "2c81da79-bc77-4024-ac2c-41bdcb1e15b4",
   "metadata": {},
   "source": [
    "# NBA_API to get Player_ID\n",
    "### Now that we have our list of unique player names from our contract data, we can use the players record from the api to get a dict of player IDs. We will create a function that takes in the list of unique player names and return a key-value pair of name-ID."
   ]
  },
  {
   "cell_type": "code",
   "execution_count": 32,
   "id": "5a72df69-46b9-4e1b-953c-159c9668657e",
   "metadata": {},
   "outputs": [],
   "source": [
    "#Let's start by loading in our player data and creating it into a dict\n",
    "all_players = players.get_players()\n",
    "player_dict = {p['full_name']: p['id'] for p in all_players}\n",
    "\n",
    "#Let's look at what information is contained in our play_dict\n",
    "#We expect to get the players name and their unique ID for the api\n",
    "\n",
    "# print(list(player_dict.items())[:3]) #Output: [('Alaa Abdelnaby', 76001), ('Zaid Abdul-Aziz', 76002), ('Kareem Abdul-Jabbar', 76003)] \n",
    "# print(f\"Total players in dictionary: {len(player_dict)}\") #Output: 4984 Players!"
   ]
  },
  {
   "cell_type": "code",
   "execution_count": 38,
   "id": "254fe80b-19eb-43a1-857f-02ff410cd452",
   "metadata": {},
   "outputs": [],
   "source": [
    "#Now that we have our player dict loaded in from the NBA API we can create our function\n",
    "def get_player_IDs(player_names):\n",
    "\n",
    "    \n",
    "    matching_IDs = {} #Initalizing our dict that we will return\n",
    "    unmatched_players = [] #Initalizing a list incase we run into unmatched players\n",
    "    \n",
    "    for name in player_names:\n",
    "        player_id = player_dict.get(name, -999) #use the player name from the list to get the id value, if no id is found return -999 for the player id\n",
    "        matching_IDs[name] = player_id\n",
    "\n",
    "        if player_id == -999:\n",
    "            unmatched_players.append(name)\n",
    "\n",
    "    if unmatched_players:\n",
    "        print(f'We have {len(unmatched_players)} players without IDs. Check the unmatched_players variable')\n",
    "        print(unmatched_players)\n",
    "            \n",
    "    \n",
    "    return matching_IDs"
   ]
  },
  {
   "cell_type": "code",
   "execution_count": 40,
   "id": "193e89ec-f419-42e2-8e8d-40a9aec4c306",
   "metadata": {},
   "outputs": [
    {
     "name": "stdout",
     "output_type": "stream",
     "text": [
      "We have 4 players without IDs. Check the unmatched_players variable\n",
      "['Nikola Vucevic', 'Jonas Valanciunas', 'C.J. McCollum', 'Louis Williams']\n"
     ]
    }
   ],
   "source": [
    "#Fingers crossed that we don't have any issues with player name matching!\n",
    "player_IDs = get_player_IDs(player_names)"
   ]
  },
  {
   "cell_type": "code",
   "execution_count": 46,
   "id": "77819aed-1693-4146-85d6-8f0346914106",
   "metadata": {},
   "outputs": [
    {
     "name": "stdout",
     "output_type": "stream",
     "text": [
      "CJ McCollum\n",
      "Jonas Valančiūnas\n",
      "Nikola Vučević\n",
      "Lou Williams\n"
     ]
    }
   ],
   "source": [
    "# Well we got most of our names but we ended up having 4 names that did not match with the player api database.\n",
    "# These 4 names are fairly well know, and the reason we don't get an ID could be due to spelling or formatting errors \n",
    "    # For example: Vucevic above does not contain his unique character letters: Vučević\n",
    "#Lets try to search for these players in the player_dict, and if we find them we can add them manually (since it's only 4)\n",
    "\n",
    "for player in player_dict.keys():\n",
    "    if \"Vučević\" in player or \"Valančiūnas\" in player or \"McCollum\" in player or \"Lou Williams\" in player:\n",
    "        print(player)\n",
    "\n",
    "#By running this cell we can see that the issue is due to the differences in player names and we can easily fix those now\n",
    "#Louis Williams was specifically identified as his nickname above as their are many players with Williams as a last name\n",
    "#and Louis Williams is generally known as Lou Williams"
   ]
  },
  {
   "cell_type": "code",
   "execution_count": 47,
   "id": "c704a904-4b91-4aea-8796-b7fb3bf457ec",
   "metadata": {},
   "outputs": [],
   "source": [
    "#Now that we know the correct spelling of these players names we can update our player_names and run our function again\n",
    "fixed_names = {\n",
    "    'Nikola Vucevic' : 'Nikola Vučević', \n",
    "    'Jonas Valanciunas' : 'Jonas Valančiūnas', \n",
    "    'C.J. McCollum' : 'CJ McCollum', \n",
    "    'Louis Williams' : 'Lou Williams'\n",
    "}\n",
    "\n",
    "player_names_fix = [fixed_names.get(name, name) for name in player_names] # use .get() to check if the name is in fixed_names,\n",
    "                                                                          # if it is return the value (fixed name), if not return original (name we are looking up)\n",
    "\n",
    "#Now we can rerun the function with our fixed names\n",
    "#We could overwrite the other, of course, but we will keep it for reference\n",
    "player_IDs_fix = get_player_IDs(player_names_fix)"
   ]
  },
  {
   "cell_type": "code",
   "execution_count": 88,
   "id": "cd50647a-f84c-4ecc-9dff-5f11dfc98d83",
   "metadata": {},
   "outputs": [
    {
     "name": "stdout",
     "output_type": "stream",
     "text": [
      "[('Kevin Durant', 201142), ('Kobe Bryant', 977), ('Zach Randolph', 2216), ('Al Horford', 201143), ('Joakim Noah', 201149), ('Pau Gasol', 2200), ('Tony Parker', 2225), ('Mike Conley', 201144), ('Jared Dudley', 201162), ('Nick Collison', 2555)]\n"
     ]
    }
   ],
   "source": [
    "#Lets take a peak at what we are outputting\n",
    "print(list(player_IDs_fix.items())[:10])"
   ]
  },
  {
   "cell_type": "markdown",
   "id": "f9e41b0a-5d2d-43c5-9990-218dafcf269c",
   "metadata": {},
   "source": [
    "# NBA Player_ID to Player Stats\n"
   ]
  },
  {
   "cell_type": "code",
   "execution_count": 77,
   "id": "dc7768ca-020a-4c54-b953-6ffbf848e882",
   "metadata": {},
   "outputs": [],
   "source": [
    "#Now that we have our player names and their respective IDs, we can use these IDs to look up their stats from the API\n",
    "\n",
    "def get_player_stats(player_ID_dict):\n",
    "\n",
    "    all_stats_player = []\n",
    "\n",
    "    for name, player_ID in player_ID_dict.items():\n",
    "        print(f'grabbing data for {name}')\n",
    "        career_stats = PlayerCareerStats(player_id=player_ID, timeout=300) \n",
    "        df = career_stats.career_totals_regular_season.get_data_frames()\n",
    "\n",
    "        #Lets make sure we include the player name for reference\n",
    "        df[\"Player\"] = name\n",
    "        all_stats_player.append(df) #This is a list of dataframes (one for each players season stats)\n",
    "\n",
    "        time.sleep(1) #adding a small 'nap' to our code to avoid overloading the api\n",
    "        \n",
    "\n",
    "\n",
    "    total_stats_players = pd.concat(all_stats_player, ignore_index=True) #Combining the list of dataframes into 1 combined one\n",
    "    \n",
    "    return total_stats_players"
   ]
  },
  {
   "cell_type": "code",
   "execution_count": 100,
   "id": "b7e009c0-f08a-4c04-a4ea-1f5327b34808",
   "metadata": {},
   "outputs": [],
   "source": [
    "# The cell below is multiple test runs with different API features. The function above should run but seems to get stuck within the data retrieval"
   ]
  },
  {
   "cell_type": "code",
   "execution_count": 99,
   "id": "6fb86a38-3071-4f6e-ad15-72cadd75c5ac",
   "metadata": {},
   "outputs": [],
   "source": [
    "#player_stats_df = get_player_stats(player_IDs_fix)\n",
    "\n",
    "#career_stats = PlayerDashboardByYearOverYear(player_id=player_IDs_fix[\"Cedi Osman\"], season= '2020-2021', timeout=300)\n",
    "#print(career_stats.get_data_frames()[0].head())"
   ]
  },
  {
   "cell_type": "code",
   "execution_count": null,
   "id": "52b4ffce-db8b-43ab-97f6-a37c798b788e",
   "metadata": {},
   "outputs": [],
   "source": []
  }
 ],
 "metadata": {
  "kernelspec": {
   "display_name": "Python 3.10 (ipykernel)",
   "language": "python",
   "name": "python3"
  },
  "language_info": {
   "codemirror_mode": {
    "name": "ipython",
    "version": 3
   },
   "file_extension": ".py",
   "mimetype": "text/x-python",
   "name": "python",
   "nbconvert_exporter": "python",
   "pygments_lexer": "ipython3",
   "version": "3.10.11"
  }
 },
 "nbformat": 4,
 "nbformat_minor": 5
}
