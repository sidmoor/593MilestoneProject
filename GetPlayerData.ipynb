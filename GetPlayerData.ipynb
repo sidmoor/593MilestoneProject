{
 "cells": [
  {
   "cell_type": "code",
   "execution_count": 53,
   "id": "03ef8367-3ada-4bfa-923b-2994008ec1f1",
   "metadata": {},
   "outputs": [],
   "source": [
    "#This notebook uses BeautifulSoup to grab the data from the specified webpages of basketball reference\n",
    "#The function takes the year you are looking for and can also take different stat types\n",
    "#The options available to scrape are: \n",
    "                    # totals , per_game , per_minute , per_poss , advanced , play_by_play , shooting, adj_shooting\n",
    "\n",
    "#Unlike the ContractData notebook, this notebook uses the .to_csv() function in order to save the data into a CSV in the assets folder\n",
    "#These saves were done manually but could be built as a fucntion to speed up data extraction if multiple stat types are used."
   ]
  },
  {
   "cell_type": "code",
   "execution_count": 54,
   "id": "361849d0-827f-44a2-93a0-7d370ed481c9",
   "metadata": {},
   "outputs": [],
   "source": [
    "#Imports \n",
    "import numpy as np\n",
    "import pandas as pd\n",
    "from bs4 import BeautifulSoup\n",
    "import requests"
   ]
  },
  {
   "cell_type": "code",
   "execution_count": 48,
   "id": "30a7e775-0fc6-4b16-9ead-de70d4121d90",
   "metadata": {},
   "outputs": [],
   "source": [
    "def Get_Player_Stats_HTML(years, stat_type):\n",
    "    url = f'https://www.basketball-reference.com/leagues/NBA_20{years}_{stat_type}.html'\n",
    "    response = requests.get(url)\n",
    "\n",
    "    soup = BeautifulSoup(response.text, 'html.parser')\n",
    "\n",
    "    table = soup.find('table')\n",
    "    extracted_data = []\n",
    "\n",
    "    if table:\n",
    "        tbody = table.find('tbody')\n",
    "        rows = tbody.find_all('tr')\n",
    "\n",
    "        for row in rows:\n",
    "            cells = row.find_all(['td','th'])\n",
    "            cell_texts = [cell.get_text(strip=True) for cell in cells]\n",
    "\n",
    "            cell_texts.insert(0, f'20{years - 1}')\n",
    "            extracted_data.append(cell_texts)\n",
    "\n",
    "    else:\n",
    "        print('No <table> found.')\n",
    "    \n",
    "\n",
    "    return extracted_data"
   ]
  },
  {
   "cell_type": "code",
   "execution_count": 51,
   "id": "59b6d1c9-c8b0-4391-8ac2-dc9c035d8174",
   "metadata": {
    "scrolled": true
   },
   "outputs": [
    {
     "name": "stdout",
     "output_type": "stream",
     "text": [
      "Your CSV file has been created and saved to the Assets Folder, it contains 9262 rows of player data\n"
     ]
    }
   ],
   "source": [
    "# Creating the advanced stats csv\n",
    "years = [12,13,14,15,16,17,18,19,20,21,22,23,24,25]\n",
    "all_data = []\n",
    "\n",
    "for year in years: \n",
    "    stats = Get_Player_Stats_HTML(year, 'advanced')\n",
    "    all_data.extend(stats)\n",
    "\n",
    "columns_adv = [\n",
    "    'Season', 'Rank', 'Player', 'Age', 'Team', 'Pos', 'G', 'GS', 'MP', 'PER',\n",
    "    'TS%', '3PAr', 'FTr', 'ORB%', 'DRB%', 'TRB%', 'AST%', 'STL%', 'BLK%',\n",
    "    'TOV%', 'USG%', 'OWS', 'DWS', 'WS', 'WS/48', 'OBPM', 'DBPM', 'BPM', 'VORP', 'Honors'\n",
    "]\n",
    "df_adv = pd.DataFrame(all_data, columns=columns_adv)\n",
    "df_adv.to_csv('Assets/NBA_Player_Advanced_Stats.csv', index=False)\n",
    "\n",
    "total_rows = len(df_adv)\n",
    "print(f'Your CSV file has been created and saved to the Assets Folder, it contains {total_rows} rows of player data')"
   ]
  },
  {
   "cell_type": "code",
   "execution_count": 52,
   "id": "02d36a3b-330c-4bc5-99d1-e06aca695b71",
   "metadata": {},
   "outputs": [
    {
     "name": "stdout",
     "output_type": "stream",
     "text": [
      "Your CSV file has been created and saved to the Assets Folder, it contains 9262 rows of player data\n"
     ]
    }
   ],
   "source": [
    "# creating the total stats csv\n",
    "years = [12,13,14,15,16,17,18,19,20,21,22,23,24,25]\n",
    "all_data = []\n",
    "\n",
    "for year in years: \n",
    "    stats = Get_Player_Stats_HTML(year, 'totals')\n",
    "    all_data.extend(stats)\n",
    "\n",
    "\n",
    "columns_total = [\n",
    "    'Season', 'Rank', 'Player', 'Age', 'Team', 'Pos', 'G', 'GS', 'MP',\n",
    "    'FG', 'FGA', 'FG%', '3P', '3PA', '3P%', '2P', '2PA', '2P%', 'eFG%',\n",
    "    'FT', 'FTA', 'FT%', 'ORB', 'DRB', 'TRB', 'AST', 'STL', 'BLK',\n",
    "    'TOV', 'PF', 'PTS', 'Trp-Dbl', 'Honors'\n",
    "]\n",
    "df_total = pd.DataFrame(all_data, columns=columns_total)\n",
    "df_adv.to_csv('Assets/NBA_Player_Total_Stats.csv', index=False)\n",
    "\n",
    "total_rows = len(df_adv)\n",
    "print(f'Your CSV file has been created and saved to the Assets Folder, it contains {total_rows} rows of player data')"
   ]
  },
  {
   "cell_type": "code",
   "execution_count": null,
   "id": "927e3867-9f0f-46d1-9d2c-71bddf664cf8",
   "metadata": {},
   "outputs": [],
   "source": []
  }
 ],
 "metadata": {
  "kernelspec": {
   "display_name": "Python 3.10 (ipykernel)",
   "language": "python",
   "name": "python3"
  },
  "language_info": {
   "codemirror_mode": {
    "name": "ipython",
    "version": 3
   },
   "file_extension": ".py",
   "mimetype": "text/x-python",
   "name": "python",
   "nbconvert_exporter": "python",
   "pygments_lexer": "ipython3",
   "version": "3.10.11"
  }
 },
 "nbformat": 4,
 "nbformat_minor": 5
}
